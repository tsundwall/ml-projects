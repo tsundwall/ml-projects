{
 "cells": [
  {
   "cell_type": "markdown",
   "metadata": {},
   "source": [
    "<font size=\"10\">Tanner Sundwall - CS472 KNN Lab</font>"
   ]
  },
  {
   "cell_type": "code",
   "execution_count": 1,
   "metadata": {
    "collapsed": true,
    "jupyter": {
     "outputs_hidden": true
    }
   },
   "outputs": [],
   "source": [
    "#from sklearn.base import BaseEstimator, ClassifierMixin\n",
    "from sklearn.neighbors import KNeighborsClassifier, KNeighborsRegressor\n",
    "from sklearn import preprocessing\n",
    "import numpy as np\n",
    "import matplotlib.pyplot as plt\n",
    "from scipy.io import arff\n",
    "import pandas as pd\n",
    "import time"
   ]
  },
  {
   "cell_type": "code",
   "execution_count": 5,
   "metadata": {
    "collapsed": false,
    "jupyter": {
     "outputs_hidden": false
    }
   },
   "outputs": [],
   "source": [
    "def calculate_distance(x1,x2,handle_nans=False): #input: 2 observations (np vectors)\n",
    "\n",
    "    if not handle_nans:\n",
    "        return np.linalg.norm(x1-x2)\n",
    "    else:\n",
    "        dist=0\n",
    "        for pair in range(len(x1)):\n",
    "            if np.isnan(x1[pair]) & np.isnan(x2[pair]):\n",
    "                pass\n",
    "            elif int(np.isnan(x1[pair])) + int(np.isnan(x2[pair])) == 1:\n",
    "\n",
    "                dist+=((np.nanmax(x1)+np.nanmax(x2))/2)**2\n",
    "            else:\n",
    "                dist+=(x1[pair]-x2[pair])**2\n",
    "        return dist\n",
    "\n",
    "\n",
    "def pick_n_neighbors(new_x,X_hat,y_hat,n,handle_nans=False):\n",
    "\n",
    "    distances = []\n",
    "    distances_neighbors = []\n",
    "    X_neighbors = []\n",
    "    y_neighbors = []\n",
    "\n",
    "    for obs in range(len(X_hat)): #create vector of distances\n",
    "        curr_x = X_hat[obs,:]\n",
    "        distances.append(calculate_distance(new_x,curr_x,handle_nans))\n",
    "\n",
    "    for nth_neighbor in range(n):\n",
    "\n",
    "        nth_neighbor_index = distances.index(np.min(distances))\n",
    "\n",
    "        distances_neighbors.append(distances[nth_neighbor_index])\n",
    "        X_neighbors.append(X_hat[nth_neighbor_index,:])\n",
    "\n",
    "        if type(y_hat) == pd.core.series.Series: #IF ONLY 1 OUTPUT\n",
    "\n",
    "            y_neighbors.append(y_hat[nth_neighbor_index])\n",
    "\n",
    "        else:\n",
    "\n",
    "            y_neighbors.append(y_hat[nth_neighbor_index,])\n",
    "\n",
    "        del distances[nth_neighbor_index]\n",
    "\n",
    "    return np.array(X_neighbors), np.array(y_neighbors), np.array(distances_neighbors)\n",
    "\n",
    "def get_inverse_distance_weights(distances):\n",
    "\n",
    "    return 1/((distances)**2)\n",
    "\n",
    "def solve_obj_func(X_neighbors, y_neighbors, distances, out_type=\"classification\", weighted=False):\n",
    "\n",
    "    if out_type == \"classification\":\n",
    "\n",
    "        if not weighted: #argmax is simply majority class\n",
    "            outputs, counts = np.unique(y_neighbors, return_counts=True)\n",
    "            return outputs[counts.argmax()]\n",
    "\n",
    "        else:\n",
    "            distance_terms = get_inverse_distance_weights(distances)\n",
    "\n",
    "            arg_max = None\n",
    "            max_value = 0\n",
    "\n",
    "            for output_class in set(y_neighbors):\n",
    "\n",
    "                unweighted_vector = kroenecker_delta(y_neighbors, output_class)\n",
    "                obj_value = np.sum(np.multiply(distance_terms,unweighted_vector))\n",
    "\n",
    "                if obj_value > max_value:\n",
    "                    max_value = obj_value\n",
    "                    arg_max = output_class\n",
    "\n",
    "            return arg_max\n",
    "\n",
    "    elif out_type == \"Regression\":\n",
    "\n",
    "        if not weighted:\n",
    "\n",
    "            return(np.mean(y_neighbors))\n",
    "\n",
    "        else:\n",
    "\n",
    "            distance_terms = get_inverse_distance_weights(distances)\n",
    "\n",
    "            return np.dot(distance_terms,y_neighbors) / np.sum(distance_terms)\n",
    "\n",
    "\n",
    "def partition_df(df, numOutputs):\n",
    "\n",
    "    X = df.iloc[:,:len(df.columns)-numOutputs]\n",
    "    y = df.iloc[:,-numOutputs]\n",
    "\n",
    "    return X,y\n",
    "\n",
    "def kroenecker_delta(output_vector, curr_class):\n",
    "    return (output_vector == curr_class)*1\n",
    "\n",
    "def evaluate_test_set(X_train, y_train, X_test, out_type=\"classification\",weighted=False, k = 3, printStatus=False, handle_nans=False):\n",
    "\n",
    "    preds = []\n",
    "    count = 0\n",
    "\n",
    "    X_train = X_train.to_numpy()\n",
    "    X_test = X_test.to_numpy()\n",
    "    y_train = y_train.to_numpy()\n",
    "\n",
    "    for obs in range(len(X_test)):\n",
    "\n",
    "        count += 1\n",
    "        if printStatus:\n",
    "            if count % 500 == 0:\n",
    "                print(f'Test observation: {count}')\n",
    "\n",
    "        new_x = X_test[obs,:]\n",
    "        X_neighbors, y_neighbors, distances = pick_n_neighbors(new_x,X_train,y_train,k,handle_nans=handle_nans)\n",
    "\n",
    "        y_pred = solve_obj_func(X_neighbors, y_neighbors, distances, weighted=weighted, out_type=out_type)\n",
    "        preds.append(y_pred)\n",
    "\n",
    "    return preds\n",
    "\n",
    "def score(y_preds,y_test):\n",
    "    results = []\n",
    "    if type(y_preds[0])!=np.float64:\n",
    "\n",
    "        for result_index in range(len(y_preds)):\n",
    "            results.append(y_preds[result_index]==y_test.iloc[result_index]*1)\n",
    "\n",
    "        return np.mean(results)\n",
    "\n",
    "    else:\n",
    "\n",
    "        assert(len(y_preds)==len(y_test))\n",
    "        diffs = y_preds-y_test\n",
    "        return np.linalg.norm(diffs) / len(y_preds)\n",
    "\n",
    "\n",
    "def normalize_X(X):\n",
    "    for feature_index in range(len(X.columns)):\n",
    "        feature = X.iloc[:,feature_index]\n",
    "        maxVal = np.max(feature)\n",
    "        minVal = np.min(feature)\n",
    "        X.iloc[:,feature_index] = (X.iloc[:,feature_index] - minVal)/(maxVal-minVal)\n",
    "\n",
    "def split_df(df, numOutputs, pctTraining, shuffle=True):\n",
    "\n",
    "    if shuffle:\n",
    "        df = df.sample(frac=1)\n",
    "        df = df.reset_index(drop=True)\n",
    "\n",
    "    nFeatures = len(df.columns) - numOutputs\n",
    "\n",
    "    X = df.iloc[:, :nFeatures]\n",
    "    y = df.iloc[:,nFeatures:]\n",
    "\n",
    "    n = len(X)\n",
    "    nSplit = int(n * pctTraining)\n",
    "    XTraining = X[:nSplit]\n",
    "    yTraining = y[:nSplit]\n",
    "    XTest = X[nSplit:]\n",
    "    yTest = y[nSplit:]\n",
    "\n",
    "    return [XTraining, yTraining], [XTest, yTest]\n",
    "\n",
    "def hot_encode(col,name):\n",
    "\n",
    "    y = pd.Series(col)\n",
    "    y = pd.get_dummies(y, columns = set(col),prefix = name)\n",
    "\n",
    "    return y"
   ]
  },
  {
   "cell_type": "markdown",
   "metadata": {},
   "source": [
    "Load in Data"
   ]
  },
  {
   "cell_type": "code",
   "execution_count": 3,
   "metadata": {
    "collapsed": false,
    "jupyter": {
     "outputs_hidden": false
    }
   },
   "outputs": [
    {
     "name": "stderr",
     "output_type": "stream",
     "text": [
      "C:\\Users\\Tanner\\AppData\\Local\\Temp\\ipykernel_18976\\350249155.py:31: SettingWithCopyWarning: \n",
      "A value is trying to be set on a copy of a slice from a DataFrame\n",
      "\n",
      "See the caveats in the documentation: https://pandas.pydata.org/pandas-docs/stable/user_guide/indexing.html#returning-a-view-versus-a-copy\n",
      "  df_train['CHAS'][i] = int.from_bytes(df_train['CHAS'][i],\"little\")-48\n",
      "C:\\Users\\Tanner\\AppData\\Local\\Temp\\ipykernel_18976\\350249155.py:34: SettingWithCopyWarning: \n",
      "A value is trying to be set on a copy of a slice from a DataFrame\n",
      "\n",
      "See the caveats in the documentation: https://pandas.pydata.org/pandas-docs/stable/user_guide/indexing.html#returning-a-view-versus-a-copy\n",
      "  df_test['CHAS'][i] = int.from_bytes(df_test['CHAS'][i],\"little\")-48\n"
     ]
    }
   ],
   "source": [
    "data = arff.loadarff(\"glass_train.arff\")\n",
    "df_train = pd.DataFrame(data[0])\n",
    "data = arff.loadarff(\"glass_test.arff\")\n",
    "df_test = pd.DataFrame(data[0])\n",
    "\n",
    "X_train_gl,y_train_gl = partition_df(df_train,1)\n",
    "X_test_gl,y_test_gl = partition_df(df_test,1)\n",
    "\n",
    "data = arff.loadarff(\"diabetes_train.arff\")\n",
    "df_train = pd.DataFrame(data[0])\n",
    "data = arff.loadarff(\"diabetes_test.arff\")\n",
    "df_test = pd.DataFrame(data[0])\n",
    "\n",
    "X_train_dia,y_train_dia = partition_df(df_train,1)\n",
    "X_test_dia,y_test_dia = partition_df(df_test,1)\n",
    "\n",
    "data = arff.loadarff(\"magic_telescope_train.arff\")\n",
    "df_train = pd.DataFrame(data[0])\n",
    "data = arff.loadarff(\"magic_telescope_test.arff\")\n",
    "df_test = pd.DataFrame(data[0])\n",
    "\n",
    "X_train_mag,y_train_mag = partition_df(df_train,1)\n",
    "X_test_mag,y_test_mag = partition_df(df_test,1)\n",
    "\n",
    "data = arff.loadarff(\"housing_train.arff\")\n",
    "df_train = pd.DataFrame(data[0])\n",
    "data = arff.loadarff(\"housing_test.arff\")\n",
    "df_test = pd.DataFrame(data[0])\n",
    "\n",
    "for i in range(len(df_train)):\n",
    "    df_train['CHAS'][i] = int.from_bytes(df_train['CHAS'][i],\"little\")-48\n",
    "\n",
    "for i in range(len(df_test)):\n",
    "    df_test['CHAS'][i] = int.from_bytes(df_test['CHAS'][i],\"little\")-48\n",
    "\n",
    "X_train_hous,y_train_hous = partition_df(df_train,1)\n",
    "X_test_hous,y_test_hous = partition_df(df_test,1)\n",
    "\n",
    "data = arff.loadarff(\"credit_approval.arff\")\n",
    "df = pd.DataFrame(data[0])\n",
    "X_cred,y_cred = partition_df(df,1)"
   ]
  },
  {
   "cell_type": "markdown",
   "metadata": {},
   "source": [
    "<font size=\"5\">1.1.1- Debug</font>"
   ]
  },
  {
   "cell_type": "code",
   "execution_count": 6,
   "metadata": {
    "collapsed": false,
    "jupyter": {
     "outputs_hidden": false
    }
   },
   "outputs": [
    {
     "name": "stdout",
     "output_type": "stream",
     "text": [
      "Unweighted Test Accuracy: 0.6463414634146342\n",
      "Weighted Test Accuracy: 0.7682926829268293\n"
     ]
    }
   ],
   "source": [
    "y_preds = evaluate_test_set(X_train_gl, y_train_gl, X_test_gl)\n",
    "print(f'Unweighted Test Accuracy: {score(y_preds,y_test_gl)}')\n",
    "y_preds = evaluate_test_set(X_train_gl, y_train_gl, X_test_gl, weighted=True)\n",
    "print(f'Weighted Test Accuracy: {score(y_preds,y_test_gl)}')\n"
   ]
  },
  {
   "cell_type": "markdown",
   "metadata": {},
   "source": [
    "<font size=\"5\">1.1.2- Evaluate</font>\n"
   ]
  },
  {
   "cell_type": "code",
   "execution_count": 7,
   "metadata": {
    "collapsed": false,
    "jupyter": {
     "outputs_hidden": false
    }
   },
   "outputs": [
    {
     "name": "stdout",
     "output_type": "stream",
     "text": [
      "Unweighted Test Accuracy: 0.7760416666666666\n",
      "Weighted Test Accuracy: 0.8515625\n"
     ]
    }
   ],
   "source": [
    "y_preds = evaluate_test_set(X_train_dia, y_train_dia, X_test_dia)\n",
    "print(f'Unweighted Test Accuracy: {score(y_preds,y_test_dia)}')\n",
    "y_preds = evaluate_test_set(X_train_dia, y_train_dia, X_test_dia, weighted=True)\n",
    "print(f'Weighted Test Accuracy: {score(y_preds,y_test_dia)}')\n"
   ]
  },
  {
   "cell_type": "markdown",
   "metadata": {},
   "source": [
    "<font size=\"5\">2.1- Magic Dataset Evaluation</font>"
   ]
  },
  {
   "cell_type": "code",
   "execution_count": 8,
   "metadata": {
    "collapsed": false,
    "jupyter": {
     "outputs_hidden": false
    }
   },
   "outputs": [
    {
     "name": "stdout",
     "output_type": "stream",
     "text": [
      "Unweighted Test Accuracy: 0.7568256825682568\n"
     ]
    }
   ],
   "source": [
    "y_preds = evaluate_test_set(X_train_mag, y_train_mag, X_test_mag)\n",
    "print(f'Unweighted Test Accuracy: {score(y_preds,y_test_mag)}')"
   ]
  },
  {
   "cell_type": "markdown",
   "metadata": {},
   "source": [
    "<font size=\"5\">2.2- Magic Dataset Evaluation (Normalized)</font>"
   ]
  },
  {
   "cell_type": "code",
   "execution_count": 11,
   "metadata": {
    "collapsed": false,
    "jupyter": {
     "outputs_hidden": false
    }
   },
   "outputs": [
    {
     "name": "stdout",
     "output_type": "stream",
     "text": [
      "Unweighted Test Accuracy (Normalized): 0.7481248124812481\n"
     ]
    }
   ],
   "source": [
    "normalize_X(X_train_mag)\n",
    "normalize_X(X_test_mag)\n",
    "\n",
    "y_preds = evaluate_test_set(X_train_mag, y_train_mag, X_test_mag)\n",
    "print(f'Unweighted Test Accuracy (Normalized): {score(y_preds,y_test_mag)}')"
   ]
  },
  {
   "cell_type": "markdown",
   "metadata": {},
   "source": [
    "Accuracy didn't appear to change much with normalized data. Normalization is typically effective when mean values of different features differ drastically in scale, as to \"weigh\" each feature equally. In the case of the magic telescope data, scales don't appear to be drastically different; which is likely why normalizing the data didn't improve test accuracy"
   ]
  },
  {
   "cell_type": "markdown",
   "metadata": {},
   "source": [
    "<font size=\"5\">2.3- Experimenting with k values</font>"
   ]
  },
  {
   "cell_type": "code",
   "execution_count": null,
   "metadata": {
    "collapsed": false,
    "jupyter": {
     "outputs_hidden": false
    },
    "pycharm": {
     "is_executing": true
    }
   },
   "outputs": [],
   "source": [
    "test_accuracies = []\n",
    "k = []\n",
    "\n",
    "for iter in range(1,17,2):\n",
    "    print(f\"Starting k = {iter}\")\n",
    "    now = time.time()\n",
    "    y_preds = evaluate_test_set(X_train_mag, y_train_mag, X_test_mag, k=iter)#,printStatus=True\n",
    "    test_accuracies.append(score(y_preds,y_test_mag))\n",
    "    print(f\"seconds elapsed: {int(time.time()-now)}\")\n",
    "    k.append(iter)"
   ]
  },
  {
   "cell_type": "code",
   "execution_count": 389,
   "metadata": {
    "collapsed": false,
    "jupyter": {
     "outputs_hidden": false
    }
   },
   "outputs": [
    {
     "data": {
      "image/png": "[encoded data removed]",
      "text/plain": [
       "<Figure size 432x288 with 1 Axes>"
      ]
     },
     "metadata": {
      "needs_background": "light"
     },
     "output_type": "display_data"
    }
   ],
   "source": [
    "plt.scatter(k,test_accuracies)\n",
    "plt.xlabel(\"k\")\n",
    "plt.ylabel(\"Test Accuracy\")\n",
    "foo = plt.title(\"Test Accuracy over k values\")"
   ]
  },
  {
   "cell_type": "markdown",
   "metadata": {},
   "source": [
    "<font size=\"5\">3- Housing Dataset (KNN Regression)</font>"
   ]
  },
  {
   "cell_type": "code",
   "execution_count": 15,
   "metadata": {
    "collapsed": false,
    "jupyter": {
     "outputs_hidden": false
    }
   },
   "outputs": [],
   "source": [
    "normalize_X(X_train_hous)\n",
    "normalize_X(X_test_hous)\n",
    "\n",
    "test_accuracies = []\n",
    "k = []\n",
    "\n",
    "for iter in range(1,17,2):\n",
    "    y_preds = evaluate_test_set(X_train_hous, y_train_hous, X_test_hous, out_type=\"Regression\", k = iter, printStatus=True)\n",
    "    test_accuracies.append(score(y_preds,y_test_hous))\n",
    "    k.append(iter)"
   ]
  },
  {
   "cell_type": "code",
   "execution_count": 16,
   "metadata": {
    "collapsed": false,
    "jupyter": {
     "outputs_hidden": false
    }
   },
   "outputs": [
    {
     "data": {
      "image/png": "[encoded data removed]",
      "text/plain": [
       "<Figure size 432x288 with 1 Axes>"
      ]
     },
     "metadata": {
      "needs_background": "light"
     },
     "output_type": "display_data"
    }
   ],
   "source": [
    "plt.scatter(k,test_accuracies)\n",
    "plt.xlabel(\"k\")\n",
    "plt.ylabel(\"MSE\")\n",
    "foo = plt.title(\"Test MSE over k values\")\n"
   ]
  },
  {
   "cell_type": "markdown",
   "metadata": {},
   "source": [
    "It's worth noting that the behavior over k seen here reflects that of the magic dataset experiments; in this case, a positive slope denotes worsening models, since MSE indicates model inaccuracy. For the magic dataset, a negative slope denoted worsening models since the metric was accuracy."
   ]
  },
  {
   "cell_type": "markdown",
   "metadata": {},
   "source": [
    "<font size=\"5\">4.1- Magic Dataset (Weighted)</font>"
   ]
  },
  {
   "cell_type": "code",
   "execution_count": 51,
   "metadata": {
    "collapsed": false,
    "jupyter": {
     "outputs_hidden": false
    }
   },
   "outputs": [
    {
     "name": "stdout",
     "output_type": "stream",
     "text": [
      "Starting k = 1\n"
     ]
    },
    {
     "name": "stderr",
     "output_type": "stream",
     "text": [
      "C:\\Users\\Tanner\\AppData\\Local\\Temp\\ipykernel_18976\\989270201.py:66: RuntimeWarning: divide by zero encountered in true_divide\n",
      "  return 1/((distances)**2)\n"
     ]
    },
    {
     "name": "stdout",
     "output_type": "stream",
     "text": [
      "seconds elapsed: 533\n",
      "Starting k = 3\n"
     ]
    },
    {
     "name": "stderr",
     "output_type": "stream",
     "text": [
      "C:\\Users\\Tanner\\AppData\\Local\\Temp\\ipykernel_18976\\989270201.py:86: RuntimeWarning: invalid value encountered in multiply\n",
      "  obj_value = np.sum(np.multiply(distance_terms,unweighted_vector))\n"
     ]
    },
    {
     "name": "stdout",
     "output_type": "stream",
     "text": [
      "seconds elapsed: 506\n",
      "Starting k = 5\n",
      "seconds elapsed: 510\n",
      "Starting k = 7\n",
      "seconds elapsed: 487\n",
      "Starting k = 9\n",
      "seconds elapsed: 508\n",
      "Starting k = 11\n",
      "seconds elapsed: 510\n",
      "Starting k = 13\n",
      "seconds elapsed: 511\n",
      "Starting k = 15\n",
      "seconds elapsed: 537\n"
     ]
    }
   ],
   "source": [
    "test_accuracies_magic_weighted = []\n",
    "k = []\n",
    "\n",
    "for iter in range(1,17,2):\n",
    "    print(f\"Starting k = {iter}\")\n",
    "    now = time.time()\n",
    "    y_preds = evaluate_test_set(X_train_mag, y_train_mag, X_test_mag, k=iter, weighted=True)#,printStatus=True\n",
    "    test_accuracies_magic_weighted.append(score(y_preds,y_test_mag))\n",
    "    print(f\"seconds elapsed: {int(time.time()-now)}\")\n",
    "    k.append(iter)"
   ]
  },
  {
   "cell_type": "code",
   "execution_count": 62,
   "metadata": {
    "collapsed": false,
    "jupyter": {
     "outputs_hidden": false
    }
   },
   "outputs": [
    {
     "data": {
      "image/png": "[encoded data removed]",
      "text/plain": [
       "<Figure size 432x288 with 1 Axes>"
      ]
     },
     "metadata": {
      "needs_background": "light"
     },
     "output_type": "display_data"
    }
   ],
   "source": [
    "plt.scatter(k,test_accuracies_magic_weighted)\n",
    "plt.xlabel(\"k\")\n",
    "plt.ylabel(\"Accuracy\")\n",
    "foo = plt.title(\"Test Accuracies over k values\")"
   ]
  },
  {
   "cell_type": "markdown",
   "metadata": {},
   "source": [
    "<font size=\"5\">4.2- Housing Dataset (Weighted)</font>"
   ]
  },
  {
   "cell_type": "code",
   "execution_count": 48,
   "metadata": {
    "collapsed": false,
    "jupyter": {
     "outputs_hidden": false
    }
   },
   "outputs": [],
   "source": [
    "test_accuracies_hous_weighted = []\n",
    "k = []\n",
    "\n",
    "for iter in range(1,17,2):\n",
    "    y_preds = evaluate_test_set(X_train_hous, y_train_hous, X_test_hous, out_type=\"Regression\", k = iter, weighted=True)\n",
    "    test_accuracies_hous_weighted.append(score(y_preds,y_test_hous))\n",
    "    k.append(iter)"
   ]
  },
  {
   "cell_type": "code",
   "execution_count": 18,
   "metadata": {
    "collapsed": false,
    "jupyter": {
     "outputs_hidden": false
    }
   },
   "outputs": [
    {
     "data": {
      "image/png": "[encoded data removed]",
      "text/plain": [
       "<Figure size 432x288 with 1 Axes>"
      ]
     },
     "metadata": {
      "needs_background": "light"
     },
     "output_type": "display_data"
    }
   ],
   "source": [
    "plt.scatter(k,test_accuracies_hous_weighted)\n",
    "plt.xlabel(\"k\")\n",
    "plt.ylabel(\"MSE\")\n",
    "foo = plt.title(\"Test MSE over k values\")\n"
   ]
  },
  {
   "cell_type": "markdown",
   "metadata": {},
   "source": [
    "<font size=\"5\">4.3-Discuss</font>"
   ]
  },
  {
   "cell_type": "markdown",
   "metadata": {},
   "source": [
    "For the magic dataset MSEs were slightly lower across the board; k=1 had the best accuracy (0.79). Other than k=1 for the unweighted instances, the differences were large; k>1 accuracies for weighted were between 0.74 and 0.76, while unweighted were between 0.7 and 0.74. The shape of the graph remains the same; as k increases, voting becomes diluted.\n",
    "\n",
    "For the housing dataset, MSE is lower across all k values. As seen above, the highest MSE is 0.68, which is higher than the lowest MSE for the unweighted analysis done previously. Especially within the scope of regression, where the output is any real value, weighting the distances makes a lot of sense; the output of the new datapoint is essentially a convex combination of all k neighbors.\n",
    "\n",
    "The behavior across k is slightly different in the weighted case, however; a clear minima exists (k=7). In the unweighted case, it seemed reasonable to just take a very low k value. But here, very low k values have some sort of information loss.\n",
    "\n",
    "Overall, the housing dataset MSE (0.58 at the lowest) improved accuracy drastically.\n",
    "\n",
    "The clear difference is that the magic dataset (maybe due to its nominal output) was far less affected by weighting, and the behavior across different k values was as well."
   ]
  },
  {
   "cell_type": "markdown",
   "metadata": {},
   "source": [
    "<font size=\"5\">5-Credit Approval Dataset</font>"
   ]
  },
  {
   "cell_type": "code",
   "execution_count": 59,
   "metadata": {
    "collapsed": false,
    "jupyter": {
     "outputs_hidden": false
    }
   },
   "outputs": [
    {
     "name": "stdout",
     "output_type": "stream",
     "text": [
      "Weighted Test Accuracy (k=7): 0.8269230769230769\n"
     ]
    }
   ],
   "source": [
    "for column in X_cred.columns:\n",
    "    if X_cred[column].dtypes == object:\n",
    "        hot_cols = hot_encode(X_cred[column],column)\n",
    "        del X_cred[column]\n",
    "        X_cred = pd.concat([X_cred,hot_cols],axis=1)\n",
    "\n",
    "normalize_X(X_cred)\n",
    "\n",
    "train,test = split_df(pd.concat([X_cred,y_cred],axis=1),1,.7)\n",
    "y_preds = evaluate_test_set(train[0], train[1].squeeze(), test[0], weighted=True, k=7, handle_nans=True)\n",
    "\n",
    "print(f'Weighted Test Accuracy (k=7): {score(y_preds,test[1])}')"
   ]
  },
  {
   "cell_type": "markdown",
   "metadata": {},
   "source": [
    "I used k=7 as a hyperparameter, as it performed well in the MSE analyses above. Test accuracy was quite good; typically in the low 80%s. Here was my methodology in dealing with nominal/missing data:\n",
    "\n",
    "* All nominal features were one-hot encoded, with each value getting its own column. This greatly expanded the feature space visually, as 51 feature columns existed after this transformation. Note that any nominal features with missing values received an extra column for this \"value\".\n",
    "* Data was normalized such that each column ranged between 0 and 1. This plays an important role in the distance metric used. NaNs in continuous fields did not change\n",
    "* When evaluating distance, nominal data were treated just like continuous data. Although it is discrete, the scales were the same, due to normalization; therefore, if values didn't match, the distance would be 1 (just as if a value of 0 and the max value in the column were evaluated for some normalized continuous data). This means that for nominal missing values, distance was maximized when they didn't match, and distance was zero when *features where both were unknown*\n",
    "* For the continuous data, if a NaN appeared, it was evaluated against the other observation. If both had NaNs for the same feature, distance was 0, and a distance of 1 otherwise\n",
    "\n",
    "Overall, the missing values were treated like any other attribute for nominal data (we assume missing values have intrinsic meaning), and treated as discrete 0 or 1 outputs of the Kroenecker function for continuous data"
   ]
  },
  {
   "cell_type": "markdown",
   "metadata": {},
   "source": [
    "<font size=\"5\">6-sklearn</font>"
   ]
  },
  {
   "cell_type": "code",
   "execution_count": 46,
   "metadata": {
    "collapsed": false,
    "jupyter": {
     "outputs_hidden": false
    }
   },
   "outputs": [
    {
     "name": "stderr",
     "output_type": "stream",
     "text": [
      "C:\\Users\\Tanner\\anaconda3\\lib\\site-packages\\sklearn\\neighbors\\_classification.py:198: DataConversionWarning: A column-vector y was passed when a 1d array was expected. Please change the shape of y to (n_samples,), for example using ravel().\n",
      "  return self._fit(X, y)\n"
     ]
    },
    {
     "name": "stdout",
     "output_type": "stream",
     "text": [
      "Magic Dataset Accuracy (Weighted, k=10): 0.8222322232223223\n"
     ]
    }
   ],
   "source": [
    "\n",
    "encode = preprocessing.LabelEncoder()\n",
    "y_train_mag_enc = pd.DataFrame(y_train_mag).apply(encode.fit_transform)\n",
    "y_test_mag_enc = pd.DataFrame(y_test_mag).apply(encode.fit_transform)\n",
    "\n",
    "knn = KNeighborsClassifier(n_neighbors=10,weights='distance')\n",
    "knn.fit(X_train_mag,y_train_mag_enc)\n",
    "\n",
    "acc_mag = knn.score(X_test_mag,y_test_mag_enc)\n",
    "print(f\"Magic Dataset Accuracy (Weighted, k=10): {acc_mag}\")"
   ]
  },
  {
   "cell_type": "code",
   "execution_count": 47,
   "metadata": {
    "collapsed": false,
    "jupyter": {
     "outputs_hidden": false
    }
   },
   "outputs": [
    {
     "name": "stdout",
     "output_type": "stream",
     "text": [
      "Housing Test MSE (Weighted, k=2): 0.47967874180434605\n"
     ]
    }
   ],
   "source": [
    "knn = KNeighborsRegressor(n_neighbors=2,weights='distance')\n",
    "knn.fit(X_train_hous,y_train_hous)\n",
    "y_pred = knn.predict(X_test_hous)\n",
    "mse_hous = score(y_pred,y_test_hous)\n",
    "print(f\"Housing Test MSE (Weighted, k=2): {mse_hous}\")"
   ]
  },
  {
   "cell_type": "markdown",
   "metadata": {},
   "source": [
    "Across hyperparameters, the sklearn implementation performed significantly better on the housing dataset; MSEs in my algorithm didn't get any lower than 0.65, while the sklearn implementation returned 0.53.\n",
    "\n",
    "The magic dataset performed very similarly to my algorithm here. This could either be attributed to the dataset itself, or the KNN method used (classification instead of regression).\n",
    "\n",
    "It's also worth noting that the sklearn algorithm is *significantly* faster. This is likely due to the 'ball tree' implementation used in sklearn; which induces a tree that relates nearby datapoints before the algorithm begins. This eliminates a vast amount of re-computation of distances; a new datapoint is just checked against the tree.\n",
    "\n",
    "When experimenting with parameters, I found that the distance metric seemed inconclusive; the l1 and l2 norms, along with Minkowski distance, performed differently on either dataset. Because of this, i kept p=2 for interpretability.\n",
    "\n",
    "I also played around with the leaf_size argument. This didn't affect accuracy, but it likely affects performance (choosing the most efficient tree structure). Any performance changes were negligible at this small problem size.\n",
    "\n",
    "Using weighted distance improved results, but only slightly (as opposed to my model, which performed significantly better with weighted distance).\n",
    "\n",
    "For the housing dataset, k=2 was the optimal neighbor size. MSE starts to increase rapidly as k increase past 5. This has a similar shape to the graph of the weighted distances KNN iterations from earlier.\n",
    "\n",
    "The magic dataset is a bit more unclear as far as the best k value goes. As k gets large, accuracy doesn't decrease; but theoretically, the computation time does. I settled with k=10.\n",
    "\n",
    "\n"
   ]
  }
 ],
 "metadata": {
  "kernelspec": {
   "display_name": "Python 3 (ipykernel)",
   "language": "python",
   "name": "python3"
  },
  "language_info": {
   "codemirror_mode": {
    "name": "ipython",
    "version": 3
   },
   "file_extension": ".py",
   "mimetype": "text/x-python",
   "name": "python",
   "nbconvert_exporter": "python",
   "pygments_lexer": "ipython3",
   "version": "3.9.12"
  }
 },
 "nbformat": 4,
 "nbformat_minor": 4
}
