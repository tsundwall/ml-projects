{
 "cells": [
  {
   "cell_type": "markdown",
   "id": "5cf5f5ab-5409-4c76-836b-58482dcb75da",
   "metadata": {},
   "source": [
    "<font size=\"7\">Tanner Sundwall- Backprop CS472</font>"
   ]
  },
  {
   "cell_type": "code",
   "execution_count": 259,
   "id": "52d400b1-c4d3-4474-8c43-884bcc675d08",
   "metadata": {},
   "outputs": [],
   "source": [
    "from sklearn.base import BaseEstimator, ClassifierMixin\n",
    "from sklearn.neural_network import MLPClassifier\n",
    "import numpy as np\n",
    "import pandas as pd\n",
    "import math\n",
    "import matplotlib.pyplot as plt\n",
    "import arff\n",
    "from scipy.io import arff\n",
    "from sklearn.preprocessing import LabelEncoder\n",
    "from pandas.core.common import SettingWithCopyWarning\n",
    "from sklearn.exceptions import ConvergenceWarning\n",
    "from sklearn.neural_network import MLPClassifier\n",
    "from sklearn.model_selection import train_test_split\n",
    "import random\n",
    "import warnings\n",
    "\n",
    "warnings.simplefilter(action='ignore', category=FutureWarning)\n",
    "warnings.simplefilter(action=\"ignore\", category=SettingWithCopyWarning)\n",
    "warnings.simplefilter(\"ignore\", category=ConvergenceWarning)\n"
   ]
  },
  {
   "cell_type": "markdown",
   "id": "f3437ae9-b179-4fe4-affd-eafbb6e44027",
   "metadata": {},
   "source": [
    "<font size=\"5\">Algorithm, Methods, etc.</font>"
   ]
  },
  {
   "cell_type": "code",
   "execution_count": 260,
   "id": "7afdbf73-749d-4148-bd61-83bdc027fbe7",
   "metadata": {},
   "outputs": [],
   "source": [
    "class MLP(BaseEstimator,ClassifierMixin):\n",
    "\n",
    "    def __init__(self, lr=.1, momentum=0, shuffle=True):\n",
    "\n",
    "        self.lr = lr\n",
    "        self.momentum = momentum\n",
    "        self.shuffle = shuffle\n",
    "        self.network = None\n",
    "        self.valAccuracies = None\n",
    "        self.trainingAccuracies = None\n",
    "        self.trainingMSEs = None\n",
    "        self.valMSEs = None\n",
    "\n",
    "    def fit(self, X, y, nOutputs, stop=\"epochs\",epochs=10, epochsMin=100, mseMin=1):\n",
    "        \n",
    "        epochsRan = 0\n",
    "        valAccuracies = []\n",
    "        trainingAccuracies = []\n",
    "        valMSEs = []\n",
    "        trainingMSEs = []\n",
    "        maxAcc=0\n",
    "        if stop == \"epochs\":\n",
    "            for epoch in range(epochs):\n",
    "                epochsRan += 1\n",
    "                if self.shuffle:\n",
    "                    X,y = self._shuffle_data(X,y,nOutputs)\n",
    "                run_epoch(self.network, X, y)\n",
    "                \n",
    "                y_hats = self.predict(X)\n",
    "                trainingAcc = class_accuracy(y_hats, y)\n",
    "\n",
    "                trainingAccuracies.append(trainingAcc)\n",
    "\n",
    "        elif stop == \"validation\":\n",
    "            train, validate = gen_folds(pd.concat([X,pd.DataFrame(y)], axis=1), len(y[0]), .15, shuffle=True)\n",
    "\n",
    "            lowestMSE = np.Inf\n",
    "            lastMSE = np.Inf\n",
    "            accuracyDiff=True\n",
    "            counter = 0\n",
    "            \n",
    "            while accuracyDiff:\n",
    "                epochsRan += 1\n",
    "                \n",
    "                if self.shuffle:\n",
    "                    X,y = self._shuffle_data(train[0],train[1].values.tolist(),nOutputs)\n",
    "                    \n",
    "                run_epoch(self.network, X, y)\n",
    "                \n",
    "                y_hats = self.predict(validate[0])\n",
    "                currAcc = class_accuracy(y_hats, validate[1].values.tolist())\n",
    "                currMSE = mse(y_hats, validate[1].values.tolist())\n",
    "                \n",
    "                y_hats = self.predict(train[0])\n",
    "                trainingAcc = class_accuracy(y_hats, train[1].values.tolist())\n",
    "                trainingMSE = mse(y_hats, train[1].values.tolist())\n",
    "                \n",
    "                if (currMSE > lastMSE) & (epochsRan > epochsMin) & (mseMin > currMSE) & (counter == 3):\n",
    "                    accuracyDiff = False\n",
    "                    \n",
    "                if currMSE > lowestMSE:\n",
    "                    counter += 1\n",
    "                else:\n",
    "                    lowestMSE = currMSE \n",
    "                    counter = 0\n",
    "\n",
    "                lastMSE = currMSE\n",
    "                valAccuracies.append(currAcc)\n",
    "                trainingAccuracies.append(trainingAcc)\n",
    "                \n",
    "                valMSEs.append(currMSE)\n",
    "                trainingMSEs.append(trainingMSE)\n",
    "                \n",
    "                if maxAcc < trainingAcc:\n",
    "                    maxAcc = trainingAcc\n",
    "\n",
    "                \n",
    "        print(f\"Epochs: {epochsRan}\")\n",
    "        self.valAccuracies = valAccuracies\n",
    "        self.trainingAccuracies = trainingAccuracies\n",
    "        self.valMSEs = valMSEs\n",
    "        self.trainingMSEs = trainingMSEs\n",
    "        self.epochs = epochsRan\n",
    "        \n",
    "        return self\n",
    "    \n",
    "    def predict(self, X):\n",
    "\n",
    "        y_hats = []\n",
    "\n",
    "        for obsIndex in range(len(X)):\n",
    "            obs_x = X.iloc[obsIndex,:]\n",
    "\n",
    "            y_hat, layer = feed_forward(self.network, obs_x)\n",
    "            y_hats.append(y_hat)\n",
    "\n",
    "        return y_hats\n",
    "    \n",
    "    def score(self, y_hats, y): #use class_accuracy() for multi outputs\n",
    "        \n",
    "        errors = []\n",
    "        \n",
    "        if type(y[0]) != list:\n",
    "            \n",
    "            for y_hatIndex in range(len(y_hats)):\n",
    "                errors.append(y_hats[y_hatIndex][0] - y[y_hatIndex])\n",
    "                \n",
    "\n",
    "            return np.mean(np.array(errors)**2)\n",
    "        \n",
    "        else:\n",
    "            \n",
    "            return class_accuracy(y_hats,y)\n",
    "        \n",
    "    def initialize_weights(self, X, y, structure, initType=\"zeros\", bias=True):\n",
    "        #biases always init to one\n",
    "\n",
    "        nFeatures = len(X.columns)\n",
    "        nOutputs = len(y.columns)\n",
    "        tensor = []\n",
    "        layer = 0\n",
    "\n",
    "        if initType == \"zeros\":\n",
    "\n",
    "            tensor.append(np.append(np.zeros((nFeatures,structure[0])),np.zeros((1,structure[0])),axis=0))\n",
    "\n",
    "            for layer in range(1, len(structure)):\n",
    "                tensor.append(np.append(np.zeros((structure[layer-1],structure[layer])),np.zeros((1,structure[layer])),axis=0))\n",
    "\n",
    "            tensor.append(np.append(np.zeros((structure[layer],nOutputs)),np.zeros((1,nOutputs)),axis=0))\n",
    "            \n",
    "        else:\n",
    "            \n",
    "            tensor.append(np.append(np.random.uniform(-1,1,(nFeatures,structure[0])),np.random.uniform(-1,1,(1,structure[0])),axis=0))\n",
    "\n",
    "            for layer in range(1, len(structure)):\n",
    "                tensor.append(np.append(np.random.uniform(-1,1,(structure[layer-1],structure[layer])),np.random.uniform(-1,1,(1,structure[layer])),axis=0))\n",
    "\n",
    "            tensor.append(np.append(np.random.uniform(-1,1,(structure[layer],nOutputs)),np.random.uniform(-1,1,(1,nOutputs)),axis=0))\n",
    "\n",
    "        return tensor\n",
    "\n",
    "\n",
    "    def _shuffle_data(self, X, y, nOutputs):\n",
    "\n",
    "        df = pd.concat([X, pd.DataFrame(y)], axis=1)\n",
    "        df = df.sample(frac=1)\n",
    "        df = df.reset_index(drop=True)\n",
    "        \n",
    "        nFeatures = len(df.columns) - nOutputs\n",
    "        \n",
    "        X = df.iloc[:, :nFeatures]\n",
    "        y = df.iloc[:, nFeatures:]\n",
    "        y = y.values.tolist()\n",
    "\n",
    "        return X, y #X: pd series, y: list\n",
    "\n",
    "class Network():\n",
    "\n",
    "    def __init__(self, X, y, structure, weightsTensor, lr, momentum):\n",
    "\n",
    "        self.X = X\n",
    "        self.y = y\n",
    "        self.lr = lr\n",
    "        self.momentum = momentum\n",
    "        self.inputNodes = []\n",
    "        self.outputNodes = []\n",
    "        self.structure = structure\n",
    "        self.weightsTensor = weightsTensor\n",
    "        self.allEdges = [] #NOT SORTED----use only for weight updates\n",
    "\n",
    "    def induce_network(self, bias=True, dense=True):\n",
    "\n",
    "        numFeatures = len(self.X.columns)\n",
    "\n",
    "        for inputNodeIndex in range(numFeatures): #init input nodes\n",
    "            currInputNode = Node(\"input\", self.X.columns[inputNodeIndex])\n",
    "            self.inputNodes.append(currInputNode)\n",
    "\n",
    "        if bias:\n",
    "            biasNode = Node(\"input (bias)\", 1,1)\n",
    "            self.inputNodes.append(biasNode)\n",
    "\n",
    "\n",
    "        for layerIndex in range(len(self.structure)):\n",
    "\n",
    "            currWeightsMatrix = self.weightsTensor[layerIndex]\n",
    "            currHLNodes = []\n",
    "            currLayerHeight = self.structure[layerIndex]\n",
    "\n",
    "            for currNodeInLayer in range(currLayerHeight):\n",
    "\n",
    "                currNode = Node(\"hidden\",currNodeInLayer)\n",
    "                currHLNodes.append(currNode)\n",
    "\n",
    "                if layerIndex == 0: #connect input layer to first hidden layer\n",
    "                    for inputNodeIndex in range(numFeatures+bias):\n",
    "                        currNode.connectNodes(self, self.inputNodes[inputNodeIndex], \"input\", currWeightsMatrix[inputNodeIndex,currNodeInLayer])\n",
    "                else:\n",
    "                    for prevLayerNodeIndex in range(self.structure[layerIndex-1]+bias):\n",
    "\n",
    "                        currNode.connectNodes(self, prevHLNodes[prevLayerNodeIndex], \"hidden\", currWeightsMatrix[prevLayerNodeIndex,currNodeInLayer])\n",
    "\n",
    "            if bias:\n",
    "                biasNode = Node(\"input (bias)\", 1,1)\n",
    "                currHLNodes.append(biasNode)\n",
    "\n",
    "            prevHLNodes = currHLNodes\n",
    "\n",
    "        if type(self.y[0]) != list:\n",
    "            numOutputs = 1\n",
    "        else:\n",
    "            numOutputs = len(self.y[0])\n",
    "\n",
    "        currWeightsMatrix = self.weightsTensor[-1]\n",
    "\n",
    "        for outputNodeIndex in range(numOutputs):\n",
    "\n",
    "            currOutputNode = Node(\"output\", None)\n",
    "\n",
    "            for prevLayerNodeIndex in range(currLayerHeight+bias): #use height of last layer\n",
    "                currOutputNode.connectNodes(self, prevHLNodes[prevLayerNodeIndex], \"output\", currWeightsMatrix[prevLayerNodeIndex,outputNodeIndex])\n",
    "\n",
    "            self.outputNodes.append(currOutputNode)\n",
    "\n",
    "    def set_input_vals(self, x):\n",
    "\n",
    "        for featureIndex in range(len(x)):\n",
    "            self.inputNodes[featureIndex].val = x[featureIndex]\n",
    "\n",
    "    def get_node(self, location): #returns incoming weights for a node at location specified\n",
    "\n",
    "        weights = []\n",
    "\n",
    "        layer, index = location\n",
    "\n",
    "        if layer > 1:\n",
    "            nextLayer = self.inputNodes[0]\n",
    "\n",
    "            for siftLayer in range(layer-1):\n",
    "                nextLayer = nextLayer.rightEdges[0].rightNode\n",
    "\n",
    "            targetNode = nextLayer.rightEdges[index-1].rightNode\n",
    "\n",
    "        elif layer == 1:\n",
    "            targetNode = self.inputNodes[0].rightEdges[index-1].rightNode\n",
    "\n",
    "        for edge in targetNode.leftEdges:\n",
    "            weights.append(edge.weight)\n",
    "\n",
    "        return targetNode, weights\n",
    "\n",
    "    def get_small_delta(self, location):\n",
    "\n",
    "        node = self.get_node(location)[0]\n",
    "        rightWeights = []\n",
    "        rightSmallDeltas = []\n",
    "\n",
    "        for rightEdge in node.rightEdges: #for each of its forward children...\n",
    "            rightWeights.append(rightEdge.weight) #collect weights\n",
    "            rightSmallDeltas.append(rightEdge.rightNode.smallDelta) #collect deltas\n",
    "\n",
    "        deltaSums = np.array(rightWeights).dot(np.array(rightSmallDeltas)) #take dot product (sum term)\n",
    "        smallDelta = deltaSums * deactivate(node.val) #sum*f'(net_j)\n",
    "        node.smallDelta = smallDelta\n",
    "\n",
    "        return smallDelta, node\n",
    "\n",
    "    def update_weights(self):\n",
    "\n",
    "        for edge in self.allEdges:\n",
    "            deltaWithMomentum = edge.weightDelta + (self.momentum*edge.weightDeltaPrev)\n",
    "            edge.weight += deltaWithMomentum\n",
    "            edge.weightDeltaPrev = deltaWithMomentum\n",
    "\n",
    "    def get_weights(self):\n",
    "\n",
    "        hiddenLayer = 0\n",
    "        allWeights = []\n",
    "        for edge in self.allEdges:\n",
    "            allWeights.append(edge.weight)\n",
    "\n",
    "        weightsTensor = []\n",
    "        nFeatures = len(self.weightsTensor[0])\n",
    "\n",
    "        currIndex = nFeatures * self.structure[0]\n",
    "        firstMatrix = allWeights[:currIndex]\n",
    "\n",
    "        weightsTensor.append(np.array(firstMatrix).reshape(self.structure[0],nFeatures).T)\n",
    "\n",
    "        for hiddenLayer in range(1,len(self.structure)):\n",
    "            numWeights = (self.structure[hiddenLayer-1]+1)*self.structure[hiddenLayer]\n",
    "            nextMatrix = allWeights[currIndex:currIndex+numWeights]\n",
    "            currIndex += numWeights\n",
    "            weightsTensor.append(np.array(nextMatrix).reshape(self.structure[hiddenLayer]+1,self.structure[hiddenLayer-1]).T)\n",
    "\n",
    "        lastMatrix = allWeights[currIndex:]\n",
    "        nOutcomes = self.weightsTensor[-1].shape[1]\n",
    "        weightsTensor.append(np.array(lastMatrix).reshape(nOutcomes,self.structure[hiddenLayer]+1).T)\n",
    "\n",
    "        return weightsTensor\n",
    "\n",
    "    def pk(self):\n",
    "\n",
    "        space = \"\"\n",
    "        print(f\"# input nodes: {len(self.inputNodes)}\")\n",
    "        currNode = self.inputNodes[0]\n",
    "\n",
    "        rightEdgesExist = True\n",
    "\n",
    "        while rightEdgesExist:\n",
    "            space += \" \"\n",
    "            try:\n",
    "                print(space + currNode.type)\n",
    "                print(space + \"|\" + str(currNode.rightEdges[0].weight))\n",
    "                currNode = currNode.rightEdges[0].rightNode\n",
    "            except:\n",
    "                rightEdgesExist = False\n",
    "\n",
    "class Edge():\n",
    "\n",
    "    def __init__(self, leftNode, rightNode, weight=None):\n",
    "        self.leftNode = leftNode\n",
    "        self.rightNode = rightNode\n",
    "        self.weight = weight\n",
    "        self.weightDelta = None\n",
    "        self.weightDeltaPrev = 0 #init to zero for first obs\n",
    "\n",
    "\n",
    "class Node():\n",
    "\n",
    "    def __init__(self, nodeType=None, nodeId=None, val=None):\n",
    "        self.rightEdges = []\n",
    "        self.leftEdges = []\n",
    "        self.type = nodeType\n",
    "        self.nodeId = nodeId\n",
    "        self.val = val\n",
    "        self.smallDelta = None\n",
    "\n",
    "    def connectNodes(self, network, leftNode, connectionType, weight):\n",
    "        #self is rightnode; connects to prev node backward\n",
    "        newEdge = Edge(leftNode, self, weight)\n",
    "        self.leftEdges.append(newEdge)\n",
    "        leftNode.rightEdges.append(newEdge)\n",
    "\n",
    "        network.allEdges.append(newEdge)\n",
    "\n",
    "        if connectionType == \"input\":\n",
    "            self.type = \"hidden\"\n",
    "            #leftNode.type = \"input\"\n",
    "\n",
    "        elif connectionType == \"hidden\":\n",
    "            self.type = \"hidden\"\n",
    "            #leftNode.type = \"hidden\"\n",
    "\n",
    "        else:\n",
    "            self.type = \"output\"\n",
    "            #leftNode.type = \"hidden\"\n",
    "\n",
    "   "
   ]
  },
  {
   "cell_type": "code",
   "execution_count": 234,
   "id": "69b3c561-19b3-4e78-ae68-743ba9eea458",
   "metadata": {},
   "outputs": [],
   "source": [
    "def activate(x): #sigmoid\n",
    "\n",
    "    return 1 / (1 + math.exp(-x))\n",
    "\n",
    "def deactivate(x):\n",
    "\n",
    "    return x*(1-x)\n",
    "\n",
    "def eval_obs(network, x, y, lr=None): #x passed in as vector (obs)\n",
    "\n",
    "    y_hat, layer = feed_forward(network, x)\n",
    "\n",
    "    backprop(network, x, y, y_hat, lr, layer)\n",
    "    \n",
    "def feed_forward(network, x):\n",
    "    network.set_input_vals(x)\n",
    "\n",
    "    inputVec = x.tolist()\n",
    "    inputVec.append(1)\n",
    "\n",
    "    for layer in range(1,len(network.structure)+1):\n",
    "\n",
    "        currLayerVals = []\n",
    "\n",
    "        for nodeInLayer in range(1,network.structure[layer-1]+1):\n",
    "\n",
    "            node, weights = network.get_node([layer, nodeInLayer])\n",
    "            weights = np.array(weights)\n",
    "\n",
    "            if layer == 1:\n",
    "                net = weights.dot(np.array(inputVec))\n",
    "            else:\n",
    "                net = weights.dot(np.array(lastLayerVals))\n",
    "\n",
    "            node.val = activate(net)\n",
    "            currLayerVals.append(node.val)\n",
    "\n",
    "        currLayerVals.append(1) #add bias node value\n",
    "        lastLayerVals = currLayerVals\n",
    "\n",
    "    y_hat = []\n",
    "    for outputNode in network.outputNodes:\n",
    "        weights = []\n",
    "\n",
    "        for finalEdgeLayer in range(1,network.structure[layer-1]+2):\n",
    "\n",
    "            weights.append(outputNode.leftEdges[finalEdgeLayer-1].weight)\n",
    "\n",
    "        net = np.array(weights).dot(np.array(lastLayerVals))\n",
    "        outputNode.val = activate(net)\n",
    "        y_hat.append(outputNode.val)\n",
    "\n",
    "    return y_hat, layer\n",
    "\n",
    "def backprop(network, x, y, y_hat, lr, layer):\n",
    "    ###BACKPROP\n",
    "    deltaBases = []\n",
    "\n",
    "    if len(y_hat) == 1:\n",
    "        deltaBases.append((y - y_hat[0]) * deactivate(y_hat[0]))\n",
    "    else:\n",
    "        for outputVal in range(len(y_hat)):\n",
    "            deltaBases.append((y[outputVal]-y_hat[outputVal])*deactivate(y_hat[outputVal]))\n",
    "\n",
    "    currOutputNodeIndex = 0\n",
    "    ###OUTPUT BACKPROP\n",
    "    for outputNode in network.outputNodes:\n",
    "\n",
    "        for nodeInBackLayer in range(network.structure[layer-1]+1):\n",
    "\n",
    "            Z_i = outputNode.leftEdges[nodeInBackLayer].leftNode.val\n",
    "            outputNode.leftEdges[nodeInBackLayer].weightDelta = lr*deltaBases[currOutputNodeIndex]*Z_i #C*delta_j*Z_i\n",
    "        outputNode.smallDelta = deltaBases[currOutputNodeIndex]\n",
    "        currOutputNodeIndex += 1\n",
    "\n",
    "    for hiddenLayer in range(len(network.structure),0,-1): #at each layer...\n",
    "\n",
    "        for nodeInLayer in range(1,network.structure[hiddenLayer-1]+1): #get a node...\n",
    "\n",
    "            smallDelta, currBackNode = network.get_small_delta([hiddenLayer, nodeInLayer])\n",
    "\n",
    "            for currEdge in currBackNode.leftEdges: #eval each incoming node\n",
    "\n",
    "                Z_i = currEdge.leftNode.val\n",
    "                currEdge.weightDelta = lr * smallDelta * Z_i #C*delta_j*Z_i\n",
    "\n",
    "def run_epoch(network, X, y):\n",
    "\n",
    "    for obsIndex in range(len(X)):\n",
    "        obs_x = X.iloc[obsIndex,:]\n",
    "        obs_y = y[obsIndex]\n",
    "\n",
    "        eval_obs(network, obs_x, obs_y,lr=.1)\n",
    "        network.update_weights()\n",
    "\n",
    "def fit(network, X, y, epochs=10):\n",
    "\n",
    "    for epoch in range(epochs):\n",
    "        run_epoch(network, X, y)\n",
    "\n",
    "def hot_encode(yInput):\n",
    "\n",
    "    y = pd.Series(yInput)\n",
    "    y = pd.get_dummies(y, columns = set(yInput))\n",
    "    return y#.values.tolist()\n",
    "\n",
    "def gen_folds(df, numOutputs, pctTraining, shuffle=True):\n",
    "\n",
    "    if shuffle:\n",
    "        df = df.sample(frac=1)\n",
    "        df = df.reset_index(drop=True)\n",
    "    \n",
    "    nFeatures = len(df.columns) - numOutputs\n",
    "\n",
    "    X = df.iloc[:, :nFeatures]\n",
    "    y = df.iloc[:,nFeatures:]\n",
    "\n",
    "    n = len(X)\n",
    "    nSplit = int(n * pctTraining)\n",
    "    XTraining = X[:nSplit]\n",
    "    yTraining = y[:nSplit]\n",
    "    XTest = X[nSplit:]\n",
    "    yTest = y[nSplit:]\n",
    "\n",
    "    return [XTraining, yTraining], [XTest, yTest]\n",
    "\n",
    "def convert_to_binary_result(y_hat):\n",
    "    \n",
    "    y_hatStaged = [0] * len(y_hat)\n",
    "    y_hatStaged[y_hat.index(np.max(y_hat))] = 1\n",
    "    y_hat = y_hatStaged\n",
    "    \n",
    "    return y_hat\n",
    "\n",
    "def class_accuracy(y_hats,y):\n",
    "\n",
    "    accuracies = []\n",
    "    for obs in range(len(y_hats)):\n",
    "\n",
    "        y_hat_binary = convert_to_binary_result(y_hats[obs])\n",
    "        accuracies.append(np.array(y_hat_binary).dot(np.array(y[obs])))\n",
    "\n",
    "    return np.mean(np.array(accuracies))\n",
    "\n",
    "def mse(y_hats,y):\n",
    "    \n",
    "    mseList = []\n",
    "    \n",
    "    for obsIndex in range(len(y)):\n",
    "        \n",
    "        mseList.append(np.linalg.norm(np.array(y_hats[obsIndex])-np.array(y[obsIndex])))\n",
    "    \n",
    "    return np.mean(mseList)\n",
    "    "
   ]
  },
  {
   "cell_type": "markdown",
   "id": "a809b35a-0372-4621-bf00-ad81d19e378a",
   "metadata": {},
   "source": [
    "<font size=\"5\">1.1.1- Debug</font>"
   ]
  },
  {
   "cell_type": "code",
   "execution_count": 292,
   "id": "4aa6af3e-eabb-4568-8cfe-3a0fa45375bc",
   "metadata": {},
   "outputs": [
    {
     "name": "stdout",
     "output_type": "stream",
     "text": [
      "Epochs: 10\n"
     ]
    },
    {
     "data": {
      "text/plain": [
       "[array([[-8.81779797e-05, -8.81779797e-05, -8.81779797e-05,\n",
       "         -8.81779797e-05],\n",
       "        [ 7.82757731e-04,  7.82757731e-04,  7.82757731e-04,\n",
       "          7.82757731e-04],\n",
       "        [-3.94353645e-03, -3.94353645e-03, -3.94353645e-03,\n",
       "         -3.94353645e-03]]),\n",
       " array([[-0.01060888],\n",
       "        [-0.01060888],\n",
       "        [-0.01060888],\n",
       "        [-0.01060888],\n",
       "        [-0.02145495]])]"
      ]
     },
     "execution_count": 292,
     "metadata": {},
     "output_type": "execute_result"
    }
   ],
   "source": [
    "data = arff.loadarff(\"linsep2nonorigin.arff\")\n",
    "df = pd.DataFrame(data[0])\n",
    "\n",
    "#df = pd.read_csv(\"debug_bp_0.csv\")\n",
    "X = df.iloc[:,:-1]\n",
    "y = df.iloc[:,-1]\n",
    "for item in range(len(y)):\n",
    "    y[item] = int.from_bytes(y[item], \"little\") - 48\n",
    "\n",
    "mlp = MLP(shuffle=False)\n",
    "tensor = mlp.initialize_weights(X,pd.DataFrame(y),[4])\n",
    "mlp.network = Network(X,y, [4], tensor,.1,.5)\n",
    "mlp.network.induce_network()\n",
    "mlp.fit(X, y, 1, epochs=10)\n",
    "mlp.network.get_weights()"
   ]
  },
  {
   "cell_type": "code",
   "execution_count": 293,
   "id": "275124de-a557-4065-8026-40d75696e563",
   "metadata": {},
   "outputs": [
    {
     "name": "stdout",
     "output_type": "stream",
     "text": [
      "Epochs: 10\n"
     ]
    },
    {
     "data": {
      "text/plain": [
       "[array([[-0.00018149, -0.00018149, -0.00018149, -0.00018149],\n",
       "        [ 0.00157468,  0.00157468,  0.00157468,  0.00157468],\n",
       "        [-0.00788218, -0.00788218, -0.00788218, -0.00788218]]),\n",
       " array([[ 0.01050642, -0.01050642],\n",
       "        [ 0.01050642, -0.01050642],\n",
       "        [ 0.01050642, -0.01050642],\n",
       "        [ 0.01050642, -0.01050642],\n",
       "        [ 0.02148778, -0.02148778]])]"
      ]
     },
     "execution_count": 293,
     "metadata": {},
     "output_type": "execute_result"
    }
   ],
   "source": [
    "data = arff.loadarff(\"linsep2nonorigin.arff\")\n",
    "df = pd.DataFrame(data[0])\n",
    "\n",
    "#df = pd.read_csv(\"debug_bp_0.csv\")\n",
    "X = df.iloc[:,:-1]\n",
    "y = df.iloc[:,-1]\n",
    "for item in range(len(y)):\n",
    "    y[item] = int.from_bytes(y[item], \"little\") - 48\n",
    "\n",
    "y = hot_encode(y)\n",
    "    \n",
    "mlp = MLP(shuffle=False)\n",
    "tensor = mlp.initialize_weights(X,y,[4])\n",
    "mlp.network = Network(X,y.values.tolist(), [4], tensor,.1,.5)\n",
    "mlp.network.induce_network()\n",
    "mlp.fit(X, y.values.tolist(), 2, epochs=10)\n",
    "mlp.network.get_weights()\n"
   ]
  },
  {
   "cell_type": "markdown",
   "id": "e56a63c1-1155-4bf4-a8e1-eec6a254250c",
   "metadata": {},
   "source": [
    "<font size=\"5\">1.1.2- Evaluation</font>"
   ]
  },
  {
   "cell_type": "code",
   "execution_count": 294,
   "id": "993531f0-92c0-4ed1-bad1-983a92807fa6",
   "metadata": {},
   "outputs": [
    {
     "name": "stdout",
     "output_type": "stream",
     "text": [
      "Epochs: 10\n"
     ]
    },
    {
     "data": {
      "text/plain": [
       "[array([[ 1.30932366,  1.30932366,  1.30932366,  1.30932366],\n",
       "        [ 0.80601033,  0.80601033,  0.80601033,  0.80601033],\n",
       "        [ 0.92744187,  0.92744187,  0.92744187,  0.92744187],\n",
       "        [ 0.22165294,  0.22165294,  0.22165294,  0.22165294],\n",
       "        [-1.45313731, -1.45313731, -1.45313731, -1.45313731]]),\n",
       " array([[-1.88512443],\n",
       "        [-1.88512443],\n",
       "        [-1.88512443],\n",
       "        [-1.88512443],\n",
       "        [ 4.57969955]])]"
      ]
     },
     "execution_count": 294,
     "metadata": {},
     "output_type": "execute_result"
    }
   ],
   "source": [
    "data = arff.loadarff(\"data_banknote_authentication.arff\")\n",
    "df = pd.DataFrame(data[0])\n",
    "X = df.iloc[:,:-1]\n",
    "y = df.iloc[:,-1]\n",
    "for item in range(len(y)):\n",
    "    y[item] = int.from_bytes(y[item], \"little\") - 48\n",
    "\n",
    "mlp = MLP(shuffle=False)\n",
    "tensor = mlp.initialize_weights(X,pd.DataFrame(y),[4])\n",
    "mlp.network = Network(X,y, [4], tensor,.1,.5)\n",
    "mlp.network.induce_network()\n",
    "mlp.fit(X, y, 1, epochs=10)\n",
    "mlp.network.get_weights()\n"
   ]
  },
  {
   "cell_type": "markdown",
   "id": "7269ae00-a3aa-4989-a979-b0b37004cc94",
   "metadata": {},
   "source": [
    "<font size=\"5\">2- Iris Dataset</font>"
   ]
  },
  {
   "cell_type": "code",
   "execution_count": 144,
   "id": "a66c7af0-f48a-41fa-a84e-81d5d89b7a16",
   "metadata": {},
   "outputs": [
    {
     "name": "stdout",
     "output_type": "stream",
     "text": [
      "Epochs: 949\n"
     ]
    }
   ],
   "source": [
    "data = arff.loadarff(\"iris.arff\")\n",
    "df = pd.DataFrame(data[0])\n",
    "X = df.iloc[:,:-1]\n",
    "y = df.iloc[:,-1]\n",
    "y = hot_encode(y)\n",
    "\n",
    "mlp = MLP(shuffle=True)\n",
    "tensor = mlp.initialize_weights(X,pd.DataFrame(y),[8])\n",
    "mlp.network = Network(X,y.values.tolist(), [8], tensor,.1,0)\n",
    "mlp.network.induce_network()\n",
    "train, test = gen_folds(pd.concat([X,pd.DataFrame(y)],axis=1), 3, .8)\n",
    "mlp = mlp.fit(train[0], train[1].values.tolist(), 3, stop=\"validation\", epochsMin=100, mseMin=.45)"
   ]
  },
  {
   "cell_type": "code",
   "execution_count": 145,
   "id": "44d567b2-a910-4a0f-87d7-9e51246cc896",
   "metadata": {},
   "outputs": [
    {
     "name": "stdout",
     "output_type": "stream",
     "text": [
      "Test Accuracy: 0.9666666666666667\n"
     ]
    }
   ],
   "source": [
    "y_hats = mlp.predict(test[0])\n",
    "testAcc = class_accuracy(y_hats, test[1].values.tolist())\n",
    "print(f'Test Accuracy: {testAcc}')"
   ]
  },
  {
   "cell_type": "code",
   "execution_count": 146,
   "id": "933f4284-169d-40d8-85bf-3f6b93892e0a",
   "metadata": {},
   "outputs": [
    {
     "data": {
      "image/png": "[encoded data removed]",
      "text/plain": [
       "<Figure size 720x432 with 1 Axes>"
      ]
     },
     "metadata": {
      "needs_background": "light"
     },
     "output_type": "display_data"
    }
   ],
   "source": [
    "plt.figure(figsize=(10,6))\n",
    "plt.xlabel(\"# Epochs\")\n",
    "plt.ylabel(\"Accuracy\")\n",
    "plt.title(\"Accuracy over Epochs\")\n",
    "plt.plot(mlp.valAccuracies, label=\"Val Acc\")\n",
    "plt.plot(mlp.trainingAccuracies, label=\"Training Acc\")\n",
    "foo = plt.legend()"
   ]
  },
  {
   "cell_type": "code",
   "execution_count": 147,
   "id": "c3766966-cc4e-43a4-bc9a-26ed8d026631",
   "metadata": {},
   "outputs": [
    {
     "data": {
      "text/plain": [
       "<matplotlib.legend.Legend at 0x1ad924106d0>"
      ]
     },
     "execution_count": 147,
     "metadata": {},
     "output_type": "execute_result"
    },
    {
     "data": {
      "image/png": "[encoded data removed]",
      "text/plain": [
       "<Figure size 720x432 with 1 Axes>"
      ]
     },
     "metadata": {
      "needs_background": "light"
     },
     "output_type": "display_data"
    }
   ],
   "source": [
    "plt.figure(figsize=(10,6))\n",
    "plt.xlabel(\"# Epochs\")\n",
    "plt.ylabel(\"Mean Squared Error\")\n",
    "plt.title(\"MSE over Epochs\")\n",
    "plt.plot(mlp.valMSEs, label=\"Validation MSE\")\n",
    "plt.plot(mlp.trainingMSEs, label=\"Training MSE\")\n",
    "plt.legend()"
   ]
  },
  {
   "cell_type": "markdown",
   "id": "074b4511-b173-4d44-acd9-9dffa31f6813",
   "metadata": {},
   "source": [
    "*The \"validation\" stopping criteria used throughout the lab use a minimum # of epochs and a lower-bound MSE value for \"early\" stopping. The main criteria for stopping is the number of epochs without and improvement in lowest MSE (hard-coded to 3)"
   ]
  },
  {
   "cell_type": "markdown",
   "id": "7423bd60-0475-4943-9575-ed32517bd135",
   "metadata": {},
   "source": [
    "<font size=\"5\">3- Vowel Dataset</font>"
   ]
  },
  {
   "cell_type": "code",
   "execution_count": 290,
   "id": "017bfdb3-e533-455b-b12a-5fbb2f93c845",
   "metadata": {},
   "outputs": [
    {
     "name": "stdout",
     "output_type": "stream",
     "text": [
      "Epochs: 361\n",
      "0.36 LR Test Accuracy: 0.8434343434343434\n",
      "Epochs: 781\n",
      "0.64 LR Test Accuracy: 0.8535353535353535\n",
      "Epochs: 249\n",
      "0.19 LR Test Accuracy: 0.7828282828282829\n",
      "Epochs: 820\n",
      "0.64 LR Test Accuracy: 0.8838383838383839\n",
      "Epochs: 314\n",
      "0.6 LR Test Accuracy: 0.8434343434343434\n"
     ]
    }
   ],
   "source": [
    "data = arff.loadarff(\"vowel.arff\")\n",
    "df = pd.DataFrame(data[0])\n",
    "\n",
    "\n",
    "# x_0 = hot_encode(df['Train or Test'])\n",
    "# x_1 = hot_encode(df['Speaker Number'])\n",
    "# x_2 = hot_encode(df['Sex'])\n",
    "\n",
    "del df['Speaker Number']\n",
    "del df['Sex']\n",
    "del df['Train or Test']\n",
    "\n",
    "X = df.iloc[:,:-1]\n",
    "y = df.iloc[:,-1]\n",
    "y = hot_encode(y)\n",
    "\n",
    "validationSetMSEs = []\n",
    "LRs = []\n",
    "\n",
    "for trial in range(5):\n",
    "    lr = random.uniform(0, 1)\n",
    "    LRs.append(lr)\n",
    "    \n",
    "    mlp = MLP(shuffle=False)\n",
    "    tensor = mlp.initialize_weights(X,pd.DataFrame(y),[20], initType=\"rand\")\n",
    "    mlp.network = Network(X,y.values.tolist(), [20], tensor,lr,0.5)\n",
    "    mlp.network.induce_network()\n",
    "    train, test = gen_folds(pd.concat([X,y],axis=1), 11, .8)\n",
    "    mlp.fit(train[0], train[1].values.tolist(), 11, stop=\"validation\", epochsMin = 20)\n",
    "    \n",
    "    validationSetMSEs.append(mlp.valMSEs)\n",
    "    \n",
    "    y_hats = mlp.predict(test[0])\n",
    "    testAcc = class_accuracy(y_hats, test[1].values.tolist())\n",
    "    print(f'{round(lr,2)} LR Test Accuracy: {testAcc}')\n",
    "    "
   ]
  },
  {
   "cell_type": "code",
   "execution_count": 291,
   "id": "d9bbad8f-6cd4-4e9c-8ad3-b65fbf2b11b8",
   "metadata": {},
   "outputs": [
    {
     "data": {
      "text/plain": [
       "<matplotlib.legend.Legend at 0x22fa9b667f0>"
      ]
     },
     "execution_count": 291,
     "metadata": {},
     "output_type": "execute_result"
    },
    {
     "data": {
      "image/png": "[encoded data removed]",
      "text/plain": [
       "<Figure size 1440x720 with 1 Axes>"
      ]
     },
     "metadata": {
      "needs_background": "light"
     },
     "output_type": "display_data"
    }
   ],
   "source": [
    "plt.figure(figsize=(20,10))\n",
    "\n",
    "plt.xlabel(\"# Epochs\")\n",
    "plt.ylabel(\"Validation MSE\")\n",
    "plt.title(\"Validation Set MSE over Epochs (Different Learning Rates)\")\n",
    "\n",
    "for trial in range(5):\n",
    "    plt.plot(validationSetMSEs[trial],label=f\"lr= {round(LRs[trial],2)}\")\n",
    "\n",
    "plt.legend()"
   ]
  },
  {
   "cell_type": "markdown",
   "id": "659bfc60-8799-4660-9b43-b243e065a40a",
   "metadata": {},
   "source": [
    "<font size=\"5\">3.1- Discussion</font>"
   ]
  },
  {
   "cell_type": "markdown",
   "id": "28751cfb-3e41-4b8b-8666-d5f5c644dcdb",
   "metadata": {},
   "source": [
    "*Graph results may vary; non-deterministic\n",
    "\n",
    "Learning rates appear to have drastic differences in convergence time. Performance appeared fairly similar. The smallest learning rate took the longest to converge, but appeared to have the lowest convergence MSE in most cases. It shows quick improvement in accuracy in the early epochs, and begins flattening out later. It looks like learning rate may not be as correlated with convergence time as I initially thought; sometimes the most \"medium\" learning rates converge quickest. In the initial simulation, lr=0.04 ended up with the lowest MSE, so this was chosen for future analyses.\n",
    "\n",
    "This is an inherently more complicated dataset than the 'Iris' dataset. First, it has 11 output classes instead of 3. \"Guesses\" become far less likely, and accuracies will be lower. More output classes also increases computation time. If $k$ represents the number of nodes in the last hidden layer and $m$ indicates the increase in class size, there will be $kn$ more weights in the network, all else unchanged. \n",
    "\n",
    "By inspection, it appears as though some of the features included in the dataset may not be necessary inclusions. The 'Train/Test' column and the 'Speaker Name' column appear to be noise; the data category and speaker likely won't affect the vowel class. While we could include these with no harmful affect, we may as well omit them. Model accuracies did not significantly decrease after deleting these features. This was a beneficial omission, as dimensionality reduction helps interpretability and computational efficiency."
   ]
  },
  {
   "cell_type": "markdown",
   "id": "f70e0717-dd04-4ca8-9db1-3468d40b5494",
   "metadata": {},
   "source": [
    "<font size=\"5\">3.2- Hidden Nodes Analysis</font>"
   ]
  },
  {
   "cell_type": "code",
   "execution_count": 286,
   "id": "84d60be5-21f4-4867-ab41-041f39bc51ac",
   "metadata": {},
   "outputs": [
    {
     "name": "stdout",
     "output_type": "stream",
     "text": [
      "Epochs: 16\n",
      "1 Nodes Test Accuracy: 0.0707070707070707\n",
      "Epochs: 22\n",
      "2 Nodes Test Accuracy: 0.09090909090909091\n",
      "Epochs: 28\n",
      "4 Nodes Test Accuracy: 0.12121212121212122\n",
      "Epochs: 345\n",
      "8 Nodes Test Accuracy: 0.5151515151515151\n",
      "Epochs: 88\n",
      "16 Nodes Test Accuracy: 0.3383838383838384\n"
     ]
    }
   ],
   "source": [
    "accImprovement = True\n",
    "currNodes = 1\n",
    "\n",
    "lr=.04\n",
    "\n",
    "bestTrainingMSEs = []\n",
    "bestValidationMSEs = []\n",
    "nodeCount = []\n",
    "lastBestAccuracy = 0\n",
    "\n",
    "while accImprovement:\n",
    "    \n",
    "    mlp = MLP()\n",
    "    tensor = mlp.initialize_weights(X,pd.DataFrame(y),[currNodes],initType=\"rand\")\n",
    "    mlp.network = Network(X,y.values.tolist(), [currNodes], tensor,lr,0)\n",
    "    mlp.network.induce_network()\n",
    "    train, test = gen_folds(pd.concat([X,y],axis=1), 11, .8)\n",
    "    mlp.fit(train[0], train[1].values.tolist(), 11, stop=\"validation\", epochsMin = 10)\n",
    "    \n",
    "    bestTrainingMSEs.append(np.min(mlp.trainingMSEs))\n",
    "    bestValidationMSEs.append(np.min(mlp.valMSEs))\n",
    "    \n",
    "    if np.max(mlp.valAccuracies) < lastBestAccuracy:\n",
    "        accImprovement = False\n",
    "        \n",
    "    lastBestAccuracy = np.max(mlp.valAccuracies)\n",
    "    \n",
    "    y_hats = mlp.predict(test[0])\n",
    "    testAcc = class_accuracy(y_hats, test[1].values.tolist())\n",
    "    print(f'{currNodes} Nodes Test Accuracy: {testAcc}')\n",
    "    \n",
    "    nodeCount.append(currNodes)\n",
    "    currNodes = currNodes*2\n",
    "    "
   ]
  },
  {
   "cell_type": "code",
   "execution_count": 287,
   "id": "908a3b6d-0e5f-4ee4-a8ea-948bf7d0aac5",
   "metadata": {},
   "outputs": [
    {
     "data": {
      "image/png": "[encoded data removed]",
      "text/plain": [
       "<Figure size 720x432 with 1 Axes>"
      ]
     },
     "metadata": {
      "needs_background": "light"
     },
     "output_type": "display_data"
    }
   ],
   "source": [
    "plt.figure(figsize=(10,6))\n",
    "\n",
    "plt.xlabel(\"# Epochs\")\n",
    "plt.ylabel(\"Validation MSE\")\n",
    "plt.title(\"Validation Set MSE over Epochs (Different Learning Rates)\")\n",
    "\n",
    "plt.scatter(nodeCount,bestValidationMSEs,label=\"validation\")\n",
    "plt.scatter(nodeCount,bestTrainingMSEs,label=\"training\")\n",
    "\n",
    "foo = plt.legend()"
   ]
  },
  {
   "cell_type": "markdown",
   "id": "616a5750-e80b-4e34-bb98-31415bdfa24b",
   "metadata": {},
   "source": [
    "Over a few iterations, it appears 8 to 16 nodes are optimal for a one hidden layer network. These optimal models drop below a training validation MSE of 0.75, and average test accuracies around 45%. It is interesting to note that the gap between validation and training MSE increases as the model gets larger. This may be a sign of overfitting, which is already a known problem as networks get larger. The greater this gap gets, the less generalizable the model is. The 1 node model, on the other hand, suffers from bias; overfitting is low, but new information is underutilized.\n",
    "\n",
    "The 8 node result was most common, and is used in the next section."
   ]
  },
  {
   "cell_type": "markdown",
   "id": "c02eea6a-2f5e-4e87-af7c-42a2b95726e3",
   "metadata": {},
   "source": [
    "<font size=\"5\">3.3- Momentum Analysis</font>"
   ]
  },
  {
   "cell_type": "code",
   "execution_count": 278,
   "id": "a70bae7c-1f5f-45b9-830a-4ba325d9daef",
   "metadata": {},
   "outputs": [
    {
     "name": "stdout",
     "output_type": "stream",
     "text": [
      "Epochs: 90\n",
      "0.04 Momentum Test Accuracy: 0.2727272727272727\n",
      "Epochs: 141\n",
      "0.14 Momentum Test Accuracy: 0.35353535353535354\n",
      "Epochs: 112\n",
      "0.14 Momentum Test Accuracy: 0.3434343434343434\n",
      "Epochs: 166\n",
      "0.09 Momentum Test Accuracy: 0.4090909090909091\n",
      "Epochs: 174\n",
      "0.17 Momentum Test Accuracy: 0.4696969696969697\n",
      "Epochs: 78\n",
      "0.58 Momentum Test Accuracy: 0.40404040404040403\n",
      "Epochs: 101\n",
      "0.63 Momentum Test Accuracy: 0.4595959595959596\n",
      "Epochs: 84\n",
      "0.41 Momentum Test Accuracy: 0.3282828282828283\n",
      "Epochs: 197\n",
      "0.07 Momentum Test Accuracy: 0.45454545454545453\n",
      "Epochs: 58\n",
      "0.79 Momentum Test Accuracy: 0.37373737373737376\n"
     ]
    }
   ],
   "source": [
    "hiddenNodes = 8\n",
    "lr = .04\n",
    "\n",
    "numEpochs = []\n",
    "momentums = []\n",
    "\n",
    "for trial in range(10):\n",
    "    momentum = random.uniform(0, 1)\n",
    "    momentums.append(momentum)\n",
    "    \n",
    "    mlp = MLP()\n",
    "    tensor = mlp.initialize_weights(X,pd.DataFrame(y),[hiddenNodes],initType=\"rand\")\n",
    "    mlp.network = Network(X,y.values.tolist(), [hiddenNodes], tensor,lr,momentum)\n",
    "    mlp.network.induce_network()\n",
    "    train, test = gen_folds(pd.concat([X,y],axis=1), 11, .8)\n",
    "    mlp.fit(train[0], train[1].values.tolist(), 11, stop=\"validation\", epochsMin = 10)\n",
    "    \n",
    "    numEpochs.append(mlp.epochs)\n",
    "    \n",
    "    y_hats = mlp.predict(test[0])\n",
    "    testAcc = class_accuracy(y_hats, test[1].values.tolist())\n",
    "    print(f'{round(momentum,2)} Momentum Test Accuracy: {testAcc}')\n",
    "    \n",
    "\n",
    "    "
   ]
  },
  {
   "cell_type": "code",
   "execution_count": 279,
   "id": "88a7d3c6-0e52-45a6-903a-410394e2db90",
   "metadata": {},
   "outputs": [
    {
     "data": {
      "text/plain": [
       "<matplotlib.collections.PathCollection at 0x22fade43850>"
      ]
     },
     "execution_count": 279,
     "metadata": {},
     "output_type": "execute_result"
    },
    {
     "data": {
      "image/png": "[encoded data removed]",
      "text/plain": [
       "<Figure size 720x432 with 1 Axes>"
      ]
     },
     "metadata": {
      "needs_background": "light"
     },
     "output_type": "display_data"
    }
   ],
   "source": [
    "plt.figure(figsize=(10,6))\n",
    "\n",
    "plt.xlabel(\"Momentum Value\")\n",
    "plt.ylabel(\"# Epochs\")\n",
    "plt.title(\"Convergence vs. Momentum\")\n",
    "\n",
    "plt.scatter(momentums,numEpochs)\n"
   ]
  },
  {
   "cell_type": "markdown",
   "id": "c39bc326-82a0-43ad-811f-ca9caaf84d45",
   "metadata": {},
   "source": [
    "Momentum and convergence time have a clear relationship as seen above. A higher momentum coefficient \"speeds up\" the process; and we see that it takes less epochs to converge. Essentially, the momentum uses previous weight deltas to accelerate movement in the weight space. Those models with low momentum values took much longer (see above). \n",
    "\n",
    "Are there accuracy implications? It doesn't immediately appear so. This may imply that higher coefficients should be favored, but this analysis is likely missing some nuance. The best \"combination\" of accuracy and convergence speed in one specific instance was 0.63, so I will add this to my tuple of optimal hyperparameters."
   ]
  },
  {
   "cell_type": "markdown",
   "id": "e71b3029-9157-48e6-909b-fffc3d736c94",
   "metadata": {},
   "source": [
    "<font size=\"5\">4.1- scikit MLP Analysis (Iris)</font>"
   ]
  },
  {
   "cell_type": "code",
   "execution_count": 282,
   "id": "a1a5095e-b4a4-4442-b208-82762b26bde0",
   "metadata": {},
   "outputs": [
    {
     "name": "stdout",
     "output_type": "stream",
     "text": [
      "Test Accuracy: 0.975\n",
      "# Epochs: 114\n"
     ]
    }
   ],
   "source": [
    "data = arff.loadarff(\"iris.arff\")\n",
    "df = pd.DataFrame(data[0])\n",
    "X = df.iloc[:,:-1]\n",
    "y = df.iloc[:,-1]\n",
    "y = hot_encode(y)\n",
    "\n",
    "X_train, X_test, y_train, y_test = train_test_split(X, y, stratify=y, test_size=0.8)\n",
    "scikit_mlp = MLPClassifier(hidden_layer_sizes=[20], activation='tanh',learning_rate_init=.1, momentum=.1)\n",
    "\n",
    "scikit_mlp.fit(X_train,y_train)\n",
    "\n",
    "print(f'Test Accuracy: {scikit_mlp.score(X_test, y_test)}')\n",
    "\n",
    "print(f'# Epochs: {scikit_mlp.n_iter_}')"
   ]
  },
  {
   "cell_type": "markdown",
   "id": "e0ee0d87-ccc4-4566-bcb3-f90b8796d7e5",
   "metadata": {},
   "source": [
    "I tested several hyperparameters in scikit on the Iris dataset. High learning rates (like .9) did very poorly; often predicting less than 40% correct. A quick jump to 90%+ accuracy occurs around lr<.4. I found this weird, since in my LR analysis with my algorithm, high learning rates weren't necessarily worse. Most activation functions performed similarly; although the \"linear\" activation (i.e. the net) performed much worse. Momentum didn't appear to affect accuracy or convergence time (contradicts my own analysis). When using SGD and Nestorov's Momentum, accuracy appears to drop to the low 80s. \n",
    "\n",
    "By setting early_stopping to True, results became much more volatile; accuracies ranged from .6 to .98. The key difference was number of epochs; while 150+ epochs were previously run, this subset usually saw less than 50. This tradeoff is expected; hence the riskiness of early stopping. \n",
    "\n",
    "The alpha of the l2 regularization term appeared to have little affect on convergence and test accuracies. \n",
    "\n",
    "While adjusting network structure, I noticed that when hidden layers are added, test accuracy became quite volatile. This was the same for layers with lots of nodes. This may signify overfitting.\n",
    "\n",
    "The params above are those that appeared best upon initial observation."
   ]
  },
  {
   "cell_type": "markdown",
   "id": "198eda07-64f6-480c-88ba-f87bd210c400",
   "metadata": {},
   "source": [
    "<font size=\"5\">4.2- scikit Hyperparameter Grid Search (Iris)</font>"
   ]
  },
  {
   "cell_type": "code",
   "execution_count": 257,
   "id": "a0d8fffc-e88e-4d7a-b03d-c2a51c686f1b",
   "metadata": {},
   "outputs": [
    {
     "name": "stdout",
     "output_type": "stream",
     "text": [
      "Max Test Accuracy: 0.975\n",
      "Argmax Hyperparameters: (11, 2, 0.1, 0.5) (layer size, # layers, LR, momentum)\n"
     ]
    }
   ],
   "source": [
    "#grid search using # layers, layer size, learning rate and momentum\n",
    "\n",
    "LRs = np.arange(.1, .6, 0.1)\n",
    "momentums = np.arange(.1, .6, 0.1)\n",
    "hiddenLayers = np.arange(1,5,1)\n",
    "layerSize = np.arange(1,50,5)\n",
    "\n",
    "hyperparamTuple = ()\n",
    "maxAcc = 0\n",
    "\n",
    "for size in layerSize:\n",
    "\n",
    "    for hiddenLayer in hiddenLayers:\n",
    "\n",
    "        for lr in LRs:\n",
    "\n",
    "            for momentum in momentums:\n",
    "                \n",
    "                X_train, X_test, y_train, y_test = train_test_split(X, y, stratify=y, test_size=0.8)\n",
    "                scikit_mlp = MLPClassifier(hidden_layer_sizes=[8]*hiddenLayers, activation='logistic',learning_rate_init=lr, momentum=momentum)\n",
    "                scikit_mlp.fit(X_train,y_train)\n",
    "                \n",
    "                if scikit_mlp.score(X_test, y_test) > maxAcc:\n",
    "                    maxAcc = scikit_mlp.score(X_test, y_test)\n",
    "                    hyperparamTuple = (size,hiddenLayer,lr,momentum)\n",
    "\n",
    "print(f'Max Test Accuracy: {round(maxAcc,4)}')\n",
    "print(f'Argmax Hyperparameters: {hyperparamTuple} (layer size, # layers, LR, momentum)')"
   ]
  },
  {
   "cell_type": "markdown",
   "id": "9631d6c4-27d0-441a-99ff-dc688e66e48e",
   "metadata": {},
   "source": [
    "For the Iris dataset, I formed a 4-dimensional grid with embedded loops with the following hyperparameters: learning rate, momentum, # of layers, and layer size. The above parameters maximized test accuracy, usually above 95%. The corresponding parameters were 2 hidden layers of 11 nodes, a learning rate of 0.1, and a momentum term of 0.5. Other than the two layers, these follow similar suit to the hyperparameters widely considered best, and those used in this lab."
   ]
  },
  {
   "cell_type": "markdown",
   "id": "49872ce0-1d27-472f-bb27-78206526c4db",
   "metadata": {},
   "source": [
    "<font size=\"5\">5- scikit Hyperparameter Random Search (Vowel)</font>"
   ]
  },
  {
   "cell_type": "code",
   "execution_count": 274,
   "id": "002f31d4-45da-4e07-8141-dd0629c8e54e",
   "metadata": {},
   "outputs": [
    {
     "name": "stdout",
     "output_type": "stream",
     "text": [
      "Max Test Accuracy: 0.5354\n",
      "Argmax Hyperparameters: (53, 0.09713298135839288, 0.44409071655055865) (layer size, LR, momentum)\n"
     ]
    }
   ],
   "source": [
    "data = arff.loadarff(\"vowel.arff\")\n",
    "df = pd.DataFrame(data[0])\n",
    "\n",
    "del df['Speaker Number']\n",
    "del df['Sex']\n",
    "del df['Train or Test']\n",
    "\n",
    "X = df.iloc[:,:-1]\n",
    "y = df.iloc[:,-1]\n",
    "y = hot_encode(y)\n",
    "\n",
    "maxAcc = 0\n",
    "\n",
    "for trial in range(100):\n",
    "    \n",
    "    lr = random.uniform(0,1)\n",
    "    momentum = random.uniform(0,1)\n",
    "    layerSize = random.randint(1,100)\n",
    "    \n",
    "    X_train, X_test, y_train, y_test = train_test_split(X, y, stratify=y, test_size=0.8)\n",
    "    scikit_mlp = MLPClassifier(hidden_layer_sizes=[layerSize], activation='logistic',learning_rate_init=lr, momentum=momentum)\n",
    "    scikit_mlp.fit(X_train,y_train)\n",
    "\n",
    "    if scikit_mlp.score(X_test, y_test) > maxAcc:\n",
    "        maxAcc = scikit_mlp.score(X_test, y_test)\n",
    "        hyperparamTuple = (layerSize,lr,momentum)\n",
    "\n",
    "print(f'Max Test Accuracy: {round(maxAcc,4)}')\n",
    "print(f'Argmax Hyperparameters: {hyperparamTuple} (layer size, LR, momentum)')"
   ]
  },
  {
   "cell_type": "markdown",
   "id": "11510588-ea52-41a9-9bb7-21a1688edcee",
   "metadata": {},
   "source": [
    "The optimal hyperparameter values returned by scikit are fairly similar to those found in my own analysis. My learning rate was 0.04, and this random search returned 0.09. The momentum value I chose was 0.63, and scikit found 0.44.\n",
    "\n",
    "The only substantial difference was the number of nodes. Scikit found that 53 nodes was an optimal number, while my analysis used 8. This could be due to early stopping in the algorithm used I used to chose number of nodes. Over a few iterations, it never found more than 16 useful, but there are likely higher values that work \"just as well\". The point of the method used in the lab is to not overuse nodes; it assumes that if the next doubling of nodes was worse, the last iteration was best. If 16 or 32 nodes wasn't better than 8, higher values were never even evaluated. "
   ]
  }
 ],
 "metadata": {
  "kernelspec": {
   "display_name": "Python 3 (ipykernel)",
   "language": "python",
   "name": "python3"
  },
  "language_info": {
   "codemirror_mode": {
    "name": "ipython",
    "version": 3
   },
   "file_extension": ".py",
   "mimetype": "text/x-python",
   "name": "python",
   "nbconvert_exporter": "python",
   "pygments_lexer": "ipython3",
   "version": "3.9.12"
  }
 },
 "nbformat": 4,
 "nbformat_minor": 5
}
